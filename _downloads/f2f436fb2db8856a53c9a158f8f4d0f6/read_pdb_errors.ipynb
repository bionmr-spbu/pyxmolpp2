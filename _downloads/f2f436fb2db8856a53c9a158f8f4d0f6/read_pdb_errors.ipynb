{
  "cells": [
    {
      "outputs": [],
      "metadata": {
        "collapsed": false
      },
      "cell_type": "code",
      "execution_count": null,
      "source": [
        "%matplotlib inline"
      ]
    },
    {
      "metadata": {},
      "cell_type": "markdown",
      "source": [
        "\n\nPDB read with errors\n--------------------\n\nIf your PDB is arbitrary formatted it might be successfully read but\nthe result might be unexpected.\n\nMost likely you will get messed atom/residue ids, wrong coordinates or if you are lucky an Exception which will tell you\nwhat is wrong with your PDB file.\n\nPlease see how to read non-standard, but well-formatted pdb file: `read-write-non-standard-pdb`\n\n\n"
      ]
    },
    {
      "outputs": [],
      "metadata": {
        "collapsed": false
      },
      "cell_type": "code",
      "execution_count": null,
      "source": [
        "import pyxmolpp2\nimport os\n\npdb_filename = os.path.join(os.environ[\"TEST_DATA_PATH\"], \"trjtool/GB1/run00001.pdb\")\n\n# Define a PDB file with standard records fields layout\npdb_file = pyxmolpp2.pdb.PdbFile(pdb_filename)"
      ]
    },
    {
      "metadata": {},
      "cell_type": "markdown",
      "source": [
        "Failed read:\n\n"
      ]
    },
    {
      "outputs": [],
      "metadata": {
        "collapsed": false
      },
      "cell_type": "code",
      "execution_count": null,
      "source": [
        "frame = pdb_file.get_frame()"
      ]
    }
  ],
  "metadata": {
    "language_info": {
      "version": "3.5.6",
      "codemirror_mode": {
        "version": 3,
        "name": "ipython"
      },
      "mimetype": "text/x-python",
      "name": "python",
      "pygments_lexer": "ipython3",
      "nbconvert_exporter": "python",
      "file_extension": ".py"
    },
    "kernelspec": {
      "language": "python",
      "name": "python3",
      "display_name": "Python 3"
    }
  },
  "nbformat": 4,
  "nbformat_minor": 0
}
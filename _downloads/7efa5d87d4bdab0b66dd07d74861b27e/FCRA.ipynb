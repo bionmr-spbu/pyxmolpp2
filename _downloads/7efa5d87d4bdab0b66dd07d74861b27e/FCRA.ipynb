{
  "cells": [
    {
      "outputs": [],
      "metadata": {
        "collapsed": false
      },
      "cell_type": "code",
      "execution_count": null,
      "source": [
        "%matplotlib inline"
      ]
    },
    {
      "metadata": {},
      "cell_type": "markdown",
      "source": [
        "\n\n\n.. |Atom| replace:: :py:class:`~pyxmolpp2.polymer.Atom`\n.. |Residue| replace:: :py:class:`~pyxmolpp2.polymer.Residue`\n.. |Chain| replace:: :py:class:`~pyxmolpp2.polymer.Chain`\n.. |Frame| replace:: :py:class:`~pyxmolpp2.polymer.Frame`\n\n.. |AtomSelection| replace:: :py:class:`~pyxmolpp2.polymer.AtomSelection`\n.. |ResidueSelection| replace:: :py:class:`~pyxmolpp2.polymer.ResidueSelection`\n.. |ChainSelection| replace:: :py:class:`~pyxmolpp2.polymer.ChainSelection`\n\n\n\nFrame/Chain/Residue/Atom hierarchy\n----------------------------------\n\n\nThe `pyxmolpp2` library implements |Frame|/|Chain|/|Residue|/|Atom| hierarchy to represent a molecular system.\n\nEvery |Atom| exists as a part of some |Residue|. |Residue| is always a part of |Chain|. |Chain| is always a part of |Frame|.\n\nFor instance this implies that you can not create an |Atom| without pre-existed |Residue|.\nWhy not allow ``Atom.residue`` to be :py:class:`None` if Atom exists by it's own?\nThe choice was between flexibility of construction code versus complexity of it's further usage.\nThe rationale behind that design decision is fact that expression ``atom.residue.chain.frame.index``\nis always correct, and no `not-None` checks are required. Such checks across the library and user code would\nincreases it's complexity and make it more prone to errors.\n\n\n\n.. danger::\n    |Atom|/|Residue|/|Chain| is alive until it's |Frame| exists. |Frame| exists until python holds a reference to it.\n    No frame - no game.\n\n\n\n"
      ]
    },
    {
      "outputs": [],
      "metadata": {
        "collapsed": false
      },
      "cell_type": "code",
      "execution_count": null,
      "source": [
        "import pyxmolpp2\nimport os\n\npdb_filename = os.path.join(os.environ[\"TEST_DATA_PATH\"], \"pdb/rcsb/1UBQ.pdb\")\npdb_file = pyxmolpp2.pdb.PdbFile(pdb_filename)\n\nframe = pdb_file.get_frame()"
      ]
    },
    {
      "outputs": [],
      "metadata": {
        "collapsed": false
      },
      "cell_type": "code",
      "execution_count": null,
      "source": [
        "# print chain names of 1UBQ entry\nprint([ chain.name.str for chain in frame.asChains ])"
      ]
    },
    {
      "outputs": [],
      "metadata": {
        "collapsed": false
      },
      "cell_type": "code",
      "execution_count": null,
      "source": [
        "# print residue names of 1UBQ entry\nprint([ res.name.str for res in frame.asResidues])"
      ]
    },
    {
      "metadata": {},
      "cell_type": "markdown",
      "source": [
        "print info about first atom:\n\n"
      ]
    },
    {
      "outputs": [],
      "metadata": {
        "collapsed": false
      },
      "cell_type": "code",
      "execution_count": null,
      "source": [
        "a = frame.asAtoms[0]\nfrom tabulate import tabulate\n\nprint(tabulate([\n    (\"name\", a.name),\n    (\"id\", a.id),\n    (\"[x,y,z]\", a.r),\n    (\"rId\", a.rId),\n    (\"rName\", a.rName),\n    (\"cName\", a.cName),\n]))"
      ]
    },
    {
      "metadata": {},
      "cell_type": "markdown",
      "source": [
        "we can find frame by atom\n\n"
      ]
    },
    {
      "outputs": [],
      "metadata": {
        "collapsed": false
      },
      "cell_type": "code",
      "execution_count": null,
      "source": [
        "assert a.frame == frame"
      ]
    },
    {
      "metadata": {},
      "cell_type": "markdown",
      "source": [
        "If you destroy all references to frame it will be eliminated with all it's content\n\n"
      ]
    },
    {
      "outputs": [],
      "metadata": {
        "collapsed": false
      },
      "cell_type": "code",
      "execution_count": null,
      "source": [
        "asel = frame.asAtoms    # valid as long reference to frame exists\nrsel = frame.asResidues # valid as long reference to frame exists\ncsel = frame.asChains   # valid as long reference to frame exists\na = frame.asAtoms[0]    # valid as long reference to frame exists"
      ]
    },
    {
      "metadata": {},
      "cell_type": "markdown",
      "source": [
        "Let's `accidentally` destroy frame, by dropping only reference:\n\n"
      ]
    },
    {
      "outputs": [],
      "metadata": {
        "collapsed": false
      },
      "cell_type": "code",
      "execution_count": null,
      "source": [
        "frame = None"
      ]
    },
    {
      "outputs": [],
      "metadata": {
        "collapsed": false
      },
      "cell_type": "code",
      "execution_count": null,
      "source": [
        "try:\n    print(asel[0])\nexcept pyxmolpp2.polymer.DeadAtomSelectionAccess as e:\n    print(\"AtomSelection error:\")\n    print(e)\n    pass"
      ]
    },
    {
      "outputs": [],
      "metadata": {
        "collapsed": false
      },
      "cell_type": "code",
      "execution_count": null,
      "source": [
        "try:\n    print(rsel[0])\nexcept pyxmolpp2.polymer.DeadResidueSelectionAccess as e:\n    print(\"ResidueSelection error:\")\n    print(e)\n    pass"
      ]
    },
    {
      "outputs": [],
      "metadata": {
        "collapsed": false
      },
      "cell_type": "code",
      "execution_count": null,
      "source": [
        "try:\n    print(csel[0])\nexcept pyxmolpp2.polymer.DeadChainSelectionAccess as e:\n    print(\"ChainSelection error:\")\n    print(e)\n    pass"
      ]
    },
    {
      "outputs": [],
      "metadata": {
        "collapsed": false
      },
      "cell_type": "code",
      "execution_count": null,
      "source": [
        "try:\n    print(a.name)\nexcept RuntimeError as e:\n    print(\"Atom access error:\")\n    print(e)\n    pass"
      ]
    }
  ],
  "metadata": {
    "language_info": {
      "version": "3.5.6",
      "codemirror_mode": {
        "version": 3,
        "name": "ipython"
      },
      "mimetype": "text/x-python",
      "name": "python",
      "pygments_lexer": "ipython3",
      "nbconvert_exporter": "python",
      "file_extension": ".py"
    },
    "kernelspec": {
      "language": "python",
      "name": "python3",
      "display_name": "Python 3"
    }
  },
  "nbformat": 4,
  "nbformat_minor": 0
}
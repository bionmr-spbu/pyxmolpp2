{
  "cells": [
    {
      "outputs": [],
      "metadata": {
        "collapsed": false
      },
      "cell_type": "code",
      "execution_count": null,
      "source": [
        "%matplotlib inline"
      ]
    },
    {
      "metadata": {},
      "cell_type": "markdown",
      "source": [
        "\n\n.. |Atom| replace:: :py:class:`~pyxmolpp2.polymer.Atom`\n.. |Residue| replace:: :py:class:`~pyxmolpp2.polymer.Residue`\n.. |Chain| replace:: :py:class:`~pyxmolpp2.polymer.Chain`\n.. |Frame| replace:: :py:class:`~pyxmolpp2.polymer.Frame`\n\n.. |AtomSelection| replace:: :py:class:`~pyxmolpp2.polymer.AtomSelection`\n.. |ResidueSelection| replace:: :py:class:`~pyxmolpp2.polymer.ResidueSelection`\n.. |ChainSelection| replace:: :py:class:`~pyxmolpp2.polymer.ChainSelection`\n\n.. |AtomPredicate| replace:: :py:class:`~pyxmolpp2.polymer.AtomPredicate`\n.. |ResiduePredicate| replace:: :py:class:`~pyxmolpp2.polymer.ResiduePredicate`\n.. |ChainPredicate| replace:: :py:class:`~pyxmolpp2.polymer.ChainPredicate`\n\n\n\nTorsion Angles\n--------------\n\n\n"
      ]
    },
    {
      "outputs": [],
      "metadata": {
        "collapsed": false
      },
      "cell_type": "code",
      "execution_count": null,
      "source": [
        "import pyxmolpp2\nimport os"
      ]
    },
    {
      "metadata": {},
      "cell_type": "markdown",
      "source": [
        "Let's create a frame to work with\n\n"
      ]
    },
    {
      "outputs": [],
      "metadata": {
        "collapsed": false
      },
      "cell_type": "code",
      "execution_count": null,
      "source": [
        "pdb_filename = os.path.join(os.environ[\"TEST_DATA_PATH\"], \"pdb/rcsb/1UBQ.pdb\")\npdb_file = pyxmolpp2.pdb.PdbFile(pdb_filename)\n\nframe = pdb_file.get_frame()"
      ]
    },
    {
      "metadata": {},
      "cell_type": "markdown",
      "source": [
        "Standard torsion angles\n^^^^^^^^^^^^^^^^^^^^^^^\n\nFor standard protein residues angles can be constructed using `TorsionAngleFactory`:\n\n"
      ]
    },
    {
      "outputs": [],
      "metadata": {
        "collapsed": false
      },
      "cell_type": "code",
      "execution_count": null,
      "source": [
        "from pyxmolpp2.polymer import TorsionAngleFactory\nfrom pyxmolpp2.geometry import Degrees\n\nresidue48 = frame.asChains[0][48]\nprint(residue48)\n\npsi_48 = TorsionAngleFactory.psi(residue48)\nprint(psi_48)\nprint(psi_48.value().degrees)"
      ]
    },
    {
      "metadata": {},
      "cell_type": "markdown",
      "source": [
        "Note: Factory may return ``None`` if such angle does not exist:\n\n"
      ]
    },
    {
      "outputs": [],
      "metadata": {
        "collapsed": false
      },
      "cell_type": "code",
      "execution_count": null,
      "source": [
        "print(TorsionAngleFactory.omega(frame.asResidues[0]))"
      ]
    },
    {
      "metadata": {},
      "cell_type": "markdown",
      "source": [
        "Torsion angle allows to set a new one:\n\n"
      ]
    },
    {
      "outputs": [],
      "metadata": {
        "collapsed": false
      },
      "cell_type": "code",
      "execution_count": null,
      "source": [
        "# All residues 49-76 are affected by this rotation\npsi_48.set(Degrees(150))\nprint(psi_48.value().degrees)"
      ]
    },
    {
      "metadata": {},
      "cell_type": "markdown",
      "source": [
        "Construction\n^^^^^^^^^^^^\nTorsion angle constructor allow two forms:\n 1. Read-only torsion angle\n 2. Read-write torsion angle\n\n"
      ]
    },
    {
      "outputs": [],
      "metadata": {
        "collapsed": false
      },
      "cell_type": "code",
      "execution_count": null,
      "source": [
        "from pyxmolpp2.polymer import TorsionAngle, AtomName, Atom\n\nr1 = frame.asResidues[1]\nr2 = frame.asResidues[2]\n\n# Let's create a read-only phi of residue 2\nphi_2_ro = TorsionAngle(r1[AtomName(\"C\")],\n                        r2[AtomName(\"N\")],\n                        r2[AtomName(\"CA\")],\n                        r2[AtomName(\"C\")],\n                        )\n\n# Check against factory angle:\nassert phi_2_ro.value().degrees == TorsionAngleFactory.phi(r2).value().degrees"
      ]
    },
    {
      "metadata": {},
      "cell_type": "markdown",
      "source": [
        "Attempt to set TorsionAngle will lead to ``RuntimeError``:\n\n"
      ]
    },
    {
      "outputs": [],
      "metadata": {
        "collapsed": false
      },
      "cell_type": "code",
      "execution_count": null,
      "source": [
        "try:\n    phi_2_ro.set(Degrees(-130))\nexcept RuntimeError as e:\n    print(e)"
      ]
    },
    {
      "metadata": {},
      "cell_type": "markdown",
      "source": [
        "We need a helper function which returns a selection of affected atoms\nby our torsion angle\n\n"
      ]
    },
    {
      "outputs": [],
      "metadata": {
        "collapsed": false
      },
      "cell_type": "code",
      "execution_count": null,
      "source": [
        "def affected_phi_atoms(a: Atom, b: Atom, c: Atom, d: Atom):\n    from pyxmolpp2.polymer import rId\n    return a.chain.asResidues.filter(rId > a.rId).asAtoms\n\n\nphi_2_rw = TorsionAngle(r1[AtomName(\"C\")],\n                        r2[AtomName(\"N\")],\n                        r2[AtomName(\"CA\")],\n                        r2[AtomName(\"C\")],\n                        affected_phi_atoms\n                        )\n\nphi_2_rw.set(Degrees(-130))\n\nprint(phi_2_ro.value().degrees)\nprint(phi_2_rw.value().degrees)"
      ]
    }
  ],
  "metadata": {
    "language_info": {
      "version": "3.5.6",
      "codemirror_mode": {
        "version": 3,
        "name": "ipython"
      },
      "mimetype": "text/x-python",
      "name": "python",
      "pygments_lexer": "ipython3",
      "nbconvert_exporter": "python",
      "file_extension": ".py"
    },
    "kernelspec": {
      "language": "python",
      "name": "python3",
      "display_name": "Python 3"
    }
  },
  "nbformat": 4,
  "nbformat_minor": 0
}
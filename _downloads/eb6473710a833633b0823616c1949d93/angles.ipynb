{
  "cells": [
    {
      "outputs": [],
      "metadata": {
        "collapsed": false
      },
      "cell_type": "code",
      "execution_count": null,
      "source": [
        "%matplotlib inline"
      ]
    },
    {
      "metadata": {},
      "cell_type": "markdown",
      "source": [
        "\n\nAngleValue\n----------\n\nProtect yourself from missing 2pi/180.0\n\n\n\n"
      ]
    },
    {
      "outputs": [],
      "metadata": {
        "collapsed": false
      },
      "cell_type": "code",
      "execution_count": null,
      "source": [
        "from pyxmolpp2.geometry import Degrees, Radians, cos, sin, tan, fabs\nimport numpy as np"
      ]
    },
    {
      "metadata": {},
      "cell_type": "markdown",
      "source": [
        "To avoid accidental errors user is forced to use :py:class:`~pyxmolpp2.geometry.AngleValue` instead of raw float numbers\n\n:py:class:`~pyxmolpp2.geometry.AngleValue` can be constructed via :py:class:`~pyxmolpp2.geometry.Degrees`\nor :py:class:`~pyxmolpp2.geometry.Radians`:\n\n"
      ]
    },
    {
      "outputs": [],
      "metadata": {
        "collapsed": false
      },
      "cell_type": "code",
      "execution_count": null,
      "source": [
        "angle_value_1 = Degrees(45)\nangle_value_2 = Radians(np.pi)"
      ]
    },
    {
      "metadata": {},
      "cell_type": "markdown",
      "source": [
        "It can be casted back to float as degrees or radians:\n\n"
      ]
    },
    {
      "outputs": [],
      "metadata": {
        "collapsed": false
      },
      "cell_type": "code",
      "execution_count": null,
      "source": [
        "print(angle_value_1.degrees, angle_value_1.radians)\nprint(angle_value_2.degrees, angle_value_2.radians)"
      ]
    },
    {
      "metadata": {},
      "cell_type": "markdown",
      "source": [
        "AngleValue supports all basic arithmetic operations:\n\n"
      ]
    },
    {
      "outputs": [],
      "metadata": {
        "collapsed": false
      },
      "cell_type": "code",
      "execution_count": null,
      "source": [
        "print((angle_value_1*2 + angle_value_2/3).degrees)"
      ]
    },
    {
      "metadata": {},
      "cell_type": "markdown",
      "source": [
        ":py:mod:`pyxmolpp2.geometry` also defines :py:func:`~pyxmolpp2.geometry.cos`, :py:func:`~pyxmolpp2.geometry.sin`, :py:func:`~pyxmolpp2.geometry.tan`, :py:func:`~pyxmolpp2.geometry.fabs` for convenience:\n\n"
      ]
    },
    {
      "outputs": [],
      "metadata": {
        "collapsed": false
      },
      "cell_type": "code",
      "execution_count": null,
      "source": [
        "print( cos(angle_value_1),\n       sin(angle_value_1),\n       tan(angle_value_1),\n       fabs(angle_value_1).degrees)\n\nprint(\"380 deg casted to range[0..2pi]:\", Degrees(380).to_standard_range().degrees )"
      ]
    }
  ],
  "metadata": {
    "language_info": {
      "version": "3.5.6",
      "codemirror_mode": {
        "version": 3,
        "name": "ipython"
      },
      "mimetype": "text/x-python",
      "name": "python",
      "pygments_lexer": "ipython3",
      "nbconvert_exporter": "python",
      "file_extension": ".py"
    },
    "kernelspec": {
      "language": "python",
      "name": "python3",
      "display_name": "Python 3"
    }
  },
  "nbformat": 4,
  "nbformat_minor": 0
}
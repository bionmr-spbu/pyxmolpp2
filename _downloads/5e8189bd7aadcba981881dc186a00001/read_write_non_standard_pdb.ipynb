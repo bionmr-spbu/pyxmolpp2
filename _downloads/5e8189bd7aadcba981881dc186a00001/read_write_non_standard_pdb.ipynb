{
  "cells": [
    {
      "outputs": [],
      "metadata": {
        "collapsed": false
      },
      "cell_type": "code",
      "execution_count": null,
      "source": [
        "%matplotlib inline"
      ]
    },
    {
      "metadata": {},
      "cell_type": "markdown",
      "source": [
        "\n\n\nNon-standard PDB io\n-------------------\n\n``pyxmolpp2`` supports reading/writing non-standard PDB files. To read such file you need to specify\na set of new records (usually based on :py:class:`~pyxmolpp2.pdb.StandardPdbRecords` records).\n\nFull set of available :py:class:`~pyxmolpp2.pdb.RecordName`,  :py:class:`~pyxmolpp2.pdb.FiledName` and standard values you can find `here <https://github.com/sizmailov/pyxmolpp2/blob/master/src/xmol/pdb/BundledPDBRecordTypesBaseInit.cpp#L32>`_\n\n\n\n"
      ]
    },
    {
      "outputs": [],
      "metadata": {
        "collapsed": false
      },
      "cell_type": "code",
      "execution_count": null,
      "source": [
        "import pyxmolpp2\nfrom pyxmolpp2.pdb import AlteredPdbRecords, StandardPdbRecords, FieldName, RecordName, PdbFile\nimport os\n\n# Create PDB records description based on standard records\naltered_records = AlteredPdbRecords(pyxmolpp2.pdb.StandardPdbRecords.instance())\n\n# Expand ATOM.serial record to columns 7-12\naltered_records.alter_record(RecordName(\"ATOM\"), FieldName(\"serial\"), [7, 12])\n\npdb_filename = os.path.join(os.environ[\"TEST_DATA_PATH\"], \"trjtool/GB1/run00001.pdb\")\n\n# Define a PDB file with altered records fields layout\npdb_file = PdbFile(pdb_filename, altered_records)\n\n# Read all frames (i.e. MODELS) from PDB\nframes = pdb_file.get_frames()\n\n# Print some info about frames\nprint(\"PDB contains %d MODELS: \" % len(frames))\nfor frame in frames:\n    print(\"\\tMODEL #%d contains %d molecules, total %d atoms\" % (\n        frame.index,\n        frame.asChains.size,\n        frame.asAtoms.size\n    ))\n\n\n# Write first model to PDB file using altered records\nframes[0].to_pdb(\"out.pdb\", altered_records)"
      ]
    }
  ],
  "metadata": {
    "language_info": {
      "version": "3.5.6",
      "codemirror_mode": {
        "version": 3,
        "name": "ipython"
      },
      "mimetype": "text/x-python",
      "name": "python",
      "pygments_lexer": "ipython3",
      "nbconvert_exporter": "python",
      "file_extension": ".py"
    },
    "kernelspec": {
      "language": "python",
      "name": "python3",
      "display_name": "Python 3"
    }
  },
  "nbformat": 4,
  "nbformat_minor": 0
}
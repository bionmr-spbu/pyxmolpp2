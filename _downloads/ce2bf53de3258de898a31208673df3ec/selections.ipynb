{
  "cells": [
    {
      "outputs": [],
      "metadata": {
        "collapsed": false
      },
      "cell_type": "code",
      "execution_count": null,
      "source": [
        "%matplotlib inline"
      ]
    },
    {
      "metadata": {},
      "cell_type": "markdown",
      "source": [
        "\n\n.. |Atom| replace:: :py:class:`~pyxmolpp2.polymer.Atom`\n.. |Residue| replace:: :py:class:`~pyxmolpp2.polymer.Residue`\n.. |Chain| replace:: :py:class:`~pyxmolpp2.polymer.Chain`\n.. |Frame| replace:: :py:class:`~pyxmolpp2.polymer.Frame`\n\n.. |AtomSelection| replace:: :py:class:`~pyxmolpp2.polymer.AtomSelection`\n.. |ResidueSelection| replace:: :py:class:`~pyxmolpp2.polymer.ResidueSelection`\n.. |ChainSelection| replace:: :py:class:`~pyxmolpp2.polymer.ChainSelection`\n\n.. |AtomPredicate| replace:: :py:class:`~pyxmolpp2.polymer.AtomPredicate`\n.. |ResiduePredicate| replace:: :py:class:`~pyxmolpp2.polymer.ResiduePredicate`\n.. |ChainPredicate| replace:: :py:class:`~pyxmolpp2.polymer.ChainPredicate`\n\n\n\nSelections\n----------\n\n*Selection* is ordered set of elements in ``pyxmolpp2``. Order is defined as follows\n\n1. if two elements belongs to same parent object, the order match their construction order\n2. otherwise, they ordered as their parents\n3. |Frame| references are ordered by :py:attr:`~pyxmolpp2.polymer.Frame.index`\n\n\n"
      ]
    },
    {
      "outputs": [],
      "metadata": {
        "collapsed": false
      },
      "cell_type": "code",
      "execution_count": null,
      "source": [
        "import pyxmolpp2\nimport os"
      ]
    },
    {
      "metadata": {},
      "cell_type": "markdown",
      "source": [
        "Let's create a frame to work with\n\n"
      ]
    },
    {
      "outputs": [],
      "metadata": {
        "collapsed": false
      },
      "cell_type": "code",
      "execution_count": null,
      "source": [
        "pdb_filename = os.path.join(os.environ[\"TEST_DATA_PATH\"], \"pdb/rcsb/1UBQ.pdb\")\npdb_file = pyxmolpp2.pdb.PdbFile(pdb_filename)\n\nframe = pdb_file.get_frame()"
      ]
    },
    {
      "metadata": {},
      "cell_type": "markdown",
      "source": [
        "Library has three types of `selections`: |AtomSelection|, |ResidueSelection| and |ChainSelection|\n\nConstruction\n^^^^^^^^^^^^\n\nAny selections might be created from |Frame| instance:\n\n"
      ]
    },
    {
      "outputs": [],
      "metadata": {
        "collapsed": false
      },
      "cell_type": "code",
      "execution_count": null,
      "source": [
        "print(frame.asChains)\nprint(frame.asResidues)\nprint(frame.asAtoms)"
      ]
    },
    {
      "metadata": {},
      "cell_type": "markdown",
      "source": [
        "|AtomSelection| and |ResidueSelection| can be created from |Chain|:\n\n"
      ]
    },
    {
      "outputs": [],
      "metadata": {
        "collapsed": false
      },
      "cell_type": "code",
      "execution_count": null,
      "source": [
        "chain = frame.asChains[0]\nprint(chain.asResidues)\nprint(chain.asAtoms)"
      ]
    },
    {
      "metadata": {},
      "cell_type": "markdown",
      "source": [
        "|AtomSelection| can be created from a |Residue|:\n\n"
      ]
    },
    {
      "outputs": [],
      "metadata": {
        "collapsed": false
      },
      "cell_type": "code",
      "execution_count": null,
      "source": [
        "residue = frame.asResidues[0]\nprint(residue.asAtoms)"
      ]
    },
    {
      "metadata": {},
      "cell_type": "markdown",
      "source": [
        "Conversions\n^^^^^^^^^^^\n\nSelections might be converted up and down through hierarchy:\n\n"
      ]
    },
    {
      "outputs": [],
      "metadata": {
        "collapsed": false
      },
      "cell_type": "code",
      "execution_count": null,
      "source": [
        "print(chain.asAtoms.asResidues)  # selects non-empty residues\nprint(frame.asResidues.asChains)  # selects chains with at least 1 residue\nprint(frame.asChains.asResidues.asAtoms.asResidues.asChains)  # select chains with at least 1 non-empty residue"
      ]
    },
    {
      "metadata": {},
      "cell_type": "markdown",
      "source": [
        "Filter\n^^^^^^\n``filter`` method return new selection with elements that match predicate:\n\n\n"
      ]
    },
    {
      "outputs": [],
      "metadata": {
        "collapsed": false
      },
      "cell_type": "code",
      "execution_count": null,
      "source": [
        "from pyxmolpp2.polymer import AtomName, ResidueName\n\nchain.asAtoms.filter(lambda a: a.r.x < 0)  # select atoms with negative x coord\nchain.asAtoms.filter(lambda a: a.name == AtomName(\"CA\"))  # select CA atoms\nchain.asResidues.filter(lambda r: r.name == ResidueName(\"LYS\"))  # select LYS residues"
      ]
    },
    {
      "metadata": {},
      "cell_type": "markdown",
      "source": [
        "``pyxmolpp2`` defines predicate-generators which return predicate when compared to something:\n\n\n"
      ]
    },
    {
      "outputs": [],
      "metadata": {
        "collapsed": false
      },
      "cell_type": "code",
      "execution_count": null,
      "source": [
        "from pyxmolpp2.polymer import aName, rName, aId, rId, cName, cIndex\n\nframe.asAtoms.filter(aName == \"CA\")  # select CA atoms\nframe.asResidues.filter(rName == \"LYS\")  # select LYS residues\nframe.asChains.filter(cName == \"A\")  # select chain(s) A"
      ]
    },
    {
      "metadata": {},
      "cell_type": "markdown",
      "source": [
        "|ChainPredicate| and |ResiduePredicate| can be naturally applied to |AtomSelection|,\nwhile |AtomPredicate| can be applied only to |AtomSelection|.\n\n"
      ]
    },
    {
      "outputs": [],
      "metadata": {
        "collapsed": false
      },
      "cell_type": "code",
      "execution_count": null,
      "source": [
        "frame.asAtoms.filter(aName == \"CA\")  # select CA atoms\nframe.asAtoms.filter(rName == \"LYS\")  # select all atoms of LYS residues"
      ]
    },
    {
      "metadata": {},
      "cell_type": "markdown",
      "source": [
        "Application of |AtomPredicate| to |ResidueSelection| or |ChainSelection| leads to :py:class:`TypeError` exception.\nSame stands for |ResiduePredicate| and |ChainSelection|:\n\n"
      ]
    },
    {
      "outputs": [],
      "metadata": {
        "collapsed": false
      },
      "cell_type": "code",
      "execution_count": null,
      "source": [
        "try:\n    print(frame.asResidues.filter(aName == \"CA\"))\nexcept TypeError as e:\n    print(e)"
      ]
    },
    {
      "outputs": [],
      "metadata": {
        "collapsed": false
      },
      "cell_type": "code",
      "execution_count": null,
      "source": [
        "try:\n    print(frame.asChains.filter(aName == \"CA\"))\nexcept TypeError as e:\n    print(e)"
      ]
    },
    {
      "outputs": [],
      "metadata": {
        "collapsed": false
      },
      "cell_type": "code",
      "execution_count": null,
      "source": [
        "try:\n    print(frame.asChains.filter(rName == \"LYS\"))\nexcept TypeError as e:\n    print(e)"
      ]
    },
    {
      "metadata": {},
      "cell_type": "markdown",
      "source": [
        "Predicates can be combined using ``&``, ``|``, ``~`` operators and reused:\n\n"
      ]
    },
    {
      "outputs": [],
      "metadata": {
        "collapsed": false
      },
      "cell_type": "code",
      "execution_count": null,
      "source": [
        "from pyxmolpp2.polymer import AtomPredicate\n\ncriteria = (aName == \"CA\") & rId.is_in({1, 2, 3, 4}) & AtomPredicate(lambda a: a.r.x < 0)  # type:AtomPredicate\n\nprint(frame.asAtoms.filter(criteria | cName.is_in({\"X\", \"Y\", \"Z\"})))"
      ]
    },
    {
      "metadata": {},
      "cell_type": "markdown",
      "source": [
        "Set operations\n^^^^^^^^^^^^^^\n\nSelections support set operations:\n\n- `union` (operators ``+``, ``+=``)\n- `set intersection` (operators ``*``, ``*=``)\n- `difference` (operators ``-``, ``-=``)\n\n\n\n"
      ]
    },
    {
      "outputs": [],
      "metadata": {
        "collapsed": false
      },
      "cell_type": "code",
      "execution_count": null,
      "source": [
        "A = frame.asAtoms.filter(lambda a: a.r.x > 5)\nB = frame.asAtoms.filter(lambda a: a.r.x <= 5)\n\nprint(A)\nprint(B)\nprint(A+B)\nprint(A-B)\nprint(A*B)"
      ]
    },
    {
      "metadata": {},
      "cell_type": "markdown",
      "source": [
        "Invalidation of selection\n^^^^^^^^^^^^^^^^^^^^^^^^^\n\nIn execution of the program selection may be marked as `invalid`, i.e. further access\nto it's elements raises an exception.\n\nSelection gets invalidated on:\n\n- destruction of any of it's elements parent (Primary this happens on deletion of a whole |Frame|.\n\n  .. note::\n      The exception will be raised so you will know that you are doing something wrong.\n\n- on :py:attr:`~pyxmolpp2.polymer.Frame.index` change if selection had elements from two frames or more.\n\n  .. danger::\n      Currently there is no runtime checks against this type of errors for sake of performance.\n      Please make sure you don't do that\n\n"
      ]
    }
  ],
  "metadata": {
    "language_info": {
      "version": "3.5.6",
      "codemirror_mode": {
        "version": 3,
        "name": "ipython"
      },
      "mimetype": "text/x-python",
      "name": "python",
      "pygments_lexer": "ipython3",
      "nbconvert_exporter": "python",
      "file_extension": ".py"
    },
    "kernelspec": {
      "language": "python",
      "name": "python3",
      "display_name": "Python 3"
    }
  },
  "nbformat": 4,
  "nbformat_minor": 0
}
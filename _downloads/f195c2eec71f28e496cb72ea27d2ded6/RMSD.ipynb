{
  "cells": [
    {
      "outputs": [],
      "metadata": {
        "collapsed": false
      },
      "cell_type": "code",
      "execution_count": null,
      "source": [
        "%matplotlib inline"
      ]
    },
    {
      "metadata": {},
      "cell_type": "markdown",
      "source": [
        "\n\n.. |Atom| replace:: :py:class:`~pyxmolpp2.polymer.Atom`\n.. |Residue| replace:: :py:class:`~pyxmolpp2.polymer.Residue`\n.. |Chain| replace:: :py:class:`~pyxmolpp2.polymer.Chain`\n.. |Frame| replace:: :py:class:`~pyxmolpp2.polymer.Frame`\n\n.. |AtomSelection| replace:: :py:class:`~pyxmolpp2.polymer.AtomSelection`\n.. |ResidueSelection| replace:: :py:class:`~pyxmolpp2.polymer.ResidueSelection`\n.. |ChainSelection| replace:: :py:class:`~pyxmolpp2.polymer.ChainSelection`\n\n.. |AtomPredicate| replace:: :py:class:`~pyxmolpp2.polymer.AtomPredicate`\n.. |ResiduePredicate| replace:: :py:class:`~pyxmolpp2.polymer.ResiduePredicate`\n.. |ChainPredicate| replace:: :py:class:`~pyxmolpp2.polymer.ChainPredicate`\n\n\n\nRMSD/RMSF calculation\n---------------------\n\nCalculate RMSD/RMSF\n\n\n"
      ]
    },
    {
      "outputs": [],
      "metadata": {
        "collapsed": false
      },
      "cell_type": "code",
      "execution_count": null,
      "source": [
        "import pyxmolpp2\nfrom pyxmolpp2.polymer import aName\nfrom pyxmolpp2.geometry import calc_rmsd, calc_alignment\nimport os"
      ]
    },
    {
      "metadata": {},
      "cell_type": "markdown",
      "source": [
        "Let's create a frame to work with\n\n"
      ]
    },
    {
      "outputs": [],
      "metadata": {
        "collapsed": false
      },
      "cell_type": "code",
      "execution_count": null,
      "source": [
        "pdb_filename = os.path.join(os.environ[\"TEST_DATA_PATH\"], \"pdb/rcsb/5BMG.pdb\")\npdb_file = pyxmolpp2.pdb.PdbFile(pdb_filename)\nframe = pdb_file.get_frame()"
      ]
    },
    {
      "metadata": {},
      "cell_type": "markdown",
      "source": [
        "Number of residues in chains must be same (strip water, ions, etc.)\n\n"
      ]
    },
    {
      "outputs": [],
      "metadata": {
        "collapsed": false
      },
      "cell_type": "code",
      "execution_count": null,
      "source": [
        "N = 0\nfor i in range(frame.size):\n    if frame.asChains[i].size != frame.asChains[0].size:\n        break\n    N += 1"
      ]
    },
    {
      "metadata": {},
      "cell_type": "markdown",
      "source": [
        "Print RMSD matrix for all deposited chains:\n\n"
      ]
    },
    {
      "outputs": [],
      "metadata": {
        "collapsed": false
      },
      "cell_type": "code",
      "execution_count": null,
      "source": [
        "for i in range(0, N):\n    chain_i_ca = frame.asChains[i].asAtoms.filter(aName == \"CA\")\n\n    for j in range(0, i + 1):\n        chain_j_ca = frame.asChains[j].asAtoms.filter(aName == \"CA\")\n\n        alignment = calc_alignment(chain_i_ca.toCoords, chain_j_ca.toCoords)\n        rmsd = calc_rmsd(chain_i_ca.toCoords, chain_j_ca.toCoords, alignment)\n\n        print(\"%5.1f\" % rmsd, end=\" \")\n\n    print()"
      ]
    },
    {
      "metadata": {},
      "cell_type": "markdown",
      "source": [
        "Calculate RMSF per residue\n\n"
      ]
    },
    {
      "outputs": [],
      "metadata": {
        "collapsed": false
      },
      "cell_type": "code",
      "execution_count": null,
      "source": [
        "from pyxmolpp2.geometry import UniformScale3d\n\nfirst_chain_ca = frame.asChains[0].asAtoms.filter(aName == \"CA\")\n\n# initialize average coordinates with (0,0,0)\navg_coords = first_chain_ca.toCoords.transform(UniformScale3d(0))\n\n# calculate average coordinates across N frames\nfor i in range(0, N):\n    chain_i_ca = frame.asChains[i].asAtoms.filter(aName == \"CA\")\n    chain_i_ca.transform(calc_alignment(first_chain_ca.toCoords, chain_i_ca.toCoords))\n\n    for k, a in enumerate(chain_i_ca):\n        avg_coords[k] += a.r\n\navg_coords.transform(UniformScale3d(1/N))\n\n# align to average coordinates\nfor i in range(0, N):\n    chain_i_ca = frame.asChains[i].asAtoms.filter(aName == \"CA\")\n    chain_i_ca.transform(calc_alignment(avg_coords, chain_i_ca.toCoords))\n\n# calculate per residue RMSF\n\nimport numpy as np\n\nrmsf = np.zeros((first_chain_ca.size,) )\nfor i in range(0, N):\n    chain_i_ca = frame.asChains[i].asAtoms.filter(aName == \"CA\")\n    for k, a in enumerate(chain_i_ca):\n          rmsf[k] += (a.r-avg_coords[k]).len2()\n\nrmsf = np.sqrt(rmsf/N)"
      ]
    },
    {
      "metadata": {},
      "cell_type": "markdown",
      "source": [
        "plot RMSF\n\n"
      ]
    },
    {
      "outputs": [],
      "metadata": {
        "collapsed": false
      },
      "cell_type": "code",
      "execution_count": null,
      "source": [
        "import matplotlib.pyplot as plt\n\nplt.figure(dpi=150)\nplt.step(range(len(rmsf)), rmsf, where=\"mid\")\nplt.ylabel(\"RMSF, $\\AA$\")\nplt.grid(color=\"#CCCCCC\",lw=0.1)\n\ndef to_label(a):\n    from  Bio.PDB.Polypeptide import three_to_one\n    if a.rId.serial%5==0:\n        return \"%s\\n%d\"%(three_to_one(a.rName.str), a.rId.serial)\n    else:\n        return \"%s\"%(three_to_one(a.rName.str))\n\nplt.xticks(range(len(rmsf)),\n           [ to_label(a) for a in first_chain_ca],\n           rotation=0,fontsize=\"x-small\")"
      ]
    }
  ],
  "metadata": {
    "language_info": {
      "version": "3.5.6",
      "codemirror_mode": {
        "version": 3,
        "name": "ipython"
      },
      "mimetype": "text/x-python",
      "name": "python",
      "pygments_lexer": "ipython3",
      "nbconvert_exporter": "python",
      "file_extension": ".py"
    },
    "kernelspec": {
      "language": "python",
      "name": "python3",
      "display_name": "Python 3"
    }
  },
  "nbformat": 4,
  "nbformat_minor": 0
}
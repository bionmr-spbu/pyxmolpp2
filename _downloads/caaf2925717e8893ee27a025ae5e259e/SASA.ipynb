{
  "cells": [
    {
      "outputs": [],
      "metadata": {
        "collapsed": false
      },
      "cell_type": "code",
      "execution_count": null,
      "source": [
        "%matplotlib inline"
      ]
    },
    {
      "metadata": {},
      "cell_type": "markdown",
      "source": [
        "\n\n\nSolvent Accessible Solvent Area (SASA)\n--------------------------------------\n\nASA is important measure of protein molecule.\n\n\n"
      ]
    },
    {
      "outputs": [],
      "metadata": {
        "collapsed": false
      },
      "cell_type": "code",
      "execution_count": null,
      "source": [
        "import pyxmolpp2\nimport os\nimport numpy as np\nfrom timeit import default_timer as timer"
      ]
    },
    {
      "metadata": {},
      "cell_type": "markdown",
      "source": [
        "Let's create a frame to work with\n\n"
      ]
    },
    {
      "outputs": [],
      "metadata": {
        "collapsed": false
      },
      "cell_type": "code",
      "execution_count": null,
      "source": [
        "pdb_filename = os.path.join(os.environ[\"TEST_DATA_PATH\"], \"pdb/rcsb/1UBQ.pdb\")\npdb_file = pyxmolpp2.pdb.PdbFile(pdb_filename)\nframe = pdb_file.get_frame()"
      ]
    },
    {
      "metadata": {},
      "cell_type": "markdown",
      "source": [
        "We need to set VDW radii for all atoms\nLet's do it according to the next table\n\n"
      ]
    },
    {
      "outputs": [],
      "metadata": {
        "collapsed": false
      },
      "cell_type": "code",
      "execution_count": null,
      "source": [
        "vdw_table = {\n    \"C\": 1.70,\n    \"O\": 1.52,\n    \"S\": 1.80,\n    \"N\": 1.55,\n    \"H\": 1.2,\n}\n\natoms = frame.asAtoms\n\n# First letter of atom name determinate it's element\nvdw_radii = np.array([vdw_table[a.name.str[0]] for a in atoms])\n\n# Solvent radius for water is usually 1.4 A\nsolvent_radius = 1.4\n\n# Measure time spent on SASA calculation\nt_start = timer()\nsasa_per_atom = pyxmolpp2.geometry.calc_sasa(atoms.toCoords,\n                                             vdw_radii,\n                                             solvent_radius,\n                                             n_samples=20\n                                             )\nt_end = timer()\n\n# Print all sasa values\nprint(\"Per-atom SASA\")\nfor sasa, a in zip(sasa_per_atom, atoms):\n    print(\"{:3d}-{:3s}.{:4s} {:7.2f}\".format(a.rId.serial, a.rName.str, a.name.str, sasa))"
      ]
    },
    {
      "outputs": [],
      "metadata": {
        "collapsed": false
      },
      "cell_type": "code",
      "execution_count": null,
      "source": [
        "print(\"Total SASA:\", sum(sasa_per_atom))\nprint(\"Elapsed time: %.3f s\"%(t_end - t_start))"
      ]
    },
    {
      "metadata": {},
      "cell_type": "markdown",
      "source": [
        "Oftentimes it's required to calculate SASA of particular site\n\nTo avoid unwanted calculation one can provide indices of atoms of interest:\n\n\n"
      ]
    },
    {
      "outputs": [],
      "metadata": {
        "collapsed": false
      },
      "cell_type": "code",
      "execution_count": null,
      "source": [
        "from pyxmolpp2.polymer import rId\n\nindex = atoms.index(rId <= 5) # take indices of first 5 residues\n\nt_start = timer()\nfirst_5_residues_sasa =  pyxmolpp2.geometry.calc_sasa(atoms.toCoords,\n                                                      vdw_radii,\n                                                      solvent_radius,\n                                                      index,\n                                                      n_samples=20\n                                                      )\n\nt_end = timer()\n\n# Print all sasa values\nprint(\"Per-atom SASA\")\nfor sasa, a in zip(first_5_residues_sasa, atoms[index]):\n    print(\"{:3d}-{:3s}.{:4s} {:7.2f}\".format(a.rId.serial, a.rName.str, a.name.str, sasa))"
      ]
    },
    {
      "outputs": [],
      "metadata": {
        "collapsed": false
      },
      "cell_type": "code",
      "execution_count": null,
      "source": [
        "print(\"1-5 residues SASA (20 samples):\", sum(first_5_residues_sasa))\nprint(\"Elapsed time: %.3f s\"%(t_end - t_start))"
      ]
    },
    {
      "outputs": [],
      "metadata": {
        "collapsed": false
      },
      "cell_type": "code",
      "execution_count": null,
      "source": [
        "t_start = timer()\nfirst_5_residues_sasa =  pyxmolpp2.geometry.calc_sasa(atoms.toCoords,\n                                                      vdw_radii,\n                                                      solvent_radius,\n                                                      index,\n                                                      n_samples=200\n                                                      )\n\nt_end = timer()\nprint(\"1-5 residues SASA (200 samples):\", sum(first_5_residues_sasa))\nprint(\"Elapsed time: %.3f s\"%(t_end - t_start))"
      ]
    }
  ],
  "metadata": {
    "language_info": {
      "version": "3.5.6",
      "codemirror_mode": {
        "version": 3,
        "name": "ipython"
      },
      "mimetype": "text/x-python",
      "name": "python",
      "pygments_lexer": "ipython3",
      "nbconvert_exporter": "python",
      "file_extension": ".py"
    },
    "kernelspec": {
      "language": "python",
      "name": "python3",
      "display_name": "Python 3"
    }
  },
  "nbformat": 4,
  "nbformat_minor": 0
}
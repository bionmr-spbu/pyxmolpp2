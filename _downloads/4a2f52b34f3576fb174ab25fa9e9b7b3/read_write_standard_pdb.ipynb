{
  "cells": [
    {
      "outputs": [],
      "metadata": {
        "collapsed": false
      },
      "cell_type": "code",
      "execution_count": null,
      "source": [
        "%matplotlib inline"
      ]
    },
    {
      "metadata": {},
      "cell_type": "markdown",
      "source": [
        "\n\nStandard PDB io\n---------------\n\n\n"
      ]
    },
    {
      "outputs": [],
      "metadata": {
        "collapsed": false
      },
      "cell_type": "code",
      "execution_count": null,
      "source": [
        "import pyxmolpp2\nimport os\n\npdb_filename = os.path.join(os.environ[\"TEST_DATA_PATH\"], \"pdb/rcsb/1PGB.pdb\")\n\n# Define a PDB file with standard records fields layout\npdb_file = pyxmolpp2.pdb.PdbFile(pdb_filename)\n\n# Read all frames (i.e. MODELS) from PDB\nframes = pdb_file.get_frames()\n\n\n# Print some info about frames\nprint(\"PDB contains %d MODELS: \" % len(frames))\nfor frame in frames:\n    print(\"\\tMODEL #%d contains %d molecules, total %d atoms\" % (\n        frame.index,\n        frame.asChains.size,\n        frame.asAtoms.size\n    ))\n\n\n# Write first model to PDB file using altered records\nframes[0].to_pdb(\"out.pdb\")"
      ]
    }
  ],
  "metadata": {
    "language_info": {
      "version": "3.5.6",
      "codemirror_mode": {
        "version": 3,
        "name": "ipython"
      },
      "mimetype": "text/x-python",
      "name": "python",
      "pygments_lexer": "ipython3",
      "nbconvert_exporter": "python",
      "file_extension": ".py"
    },
    "kernelspec": {
      "language": "python",
      "name": "python3",
      "display_name": "Python 3"
    }
  },
  "nbformat": 4,
  "nbformat_minor": 0
}
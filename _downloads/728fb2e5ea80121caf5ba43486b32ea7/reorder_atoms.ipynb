{
  "cells": [
    {
      "outputs": [],
      "metadata": {
        "collapsed": false
      },
      "cell_type": "code",
      "execution_count": null,
      "source": [
        "%matplotlib inline"
      ]
    },
    {
      "metadata": {},
      "cell_type": "markdown",
      "source": [
        "\n\n.. |Atom| replace:: :py:class:`~pyxmolpp2.polymer.Atom`\n.. |Residue| replace:: :py:class:`~pyxmolpp2.polymer.Residue`\n.. |Chain| replace:: :py:class:`~pyxmolpp2.polymer.Chain`\n.. |Frame| replace:: :py:class:`~pyxmolpp2.polymer.Frame`\n\n.. |AtomSelection| replace:: :py:class:`~pyxmolpp2.polymer.AtomSelection`\n.. |ResidueSelection| replace:: :py:class:`~pyxmolpp2.polymer.ResidueSelection`\n.. |ChainSelection| replace:: :py:class:`~pyxmolpp2.polymer.ChainSelection`\n\n.. |AtomPredicate| replace:: :py:class:`~pyxmolpp2.polymer.AtomPredicate`\n.. |ResiduePredicate| replace:: :py:class:`~pyxmolpp2.polymer.ResiduePredicate`\n.. |ChainPredicate| replace:: :py:class:`~pyxmolpp2.polymer.ChainPredicate`\n\n\n\nReorder atoms/residues\n----------------------\n\nIn this example we will see how to reorder atoms/residues/chains\n\n\n"
      ]
    },
    {
      "outputs": [],
      "metadata": {
        "collapsed": false
      },
      "cell_type": "code",
      "execution_count": null,
      "source": [
        "import pyxmolpp2\nimport os"
      ]
    },
    {
      "metadata": {},
      "cell_type": "markdown",
      "source": [
        "Let's create a frame to work with\n\n"
      ]
    },
    {
      "outputs": [],
      "metadata": {
        "collapsed": false
      },
      "cell_type": "code",
      "execution_count": null,
      "source": [
        "pdb_filename = os.path.join(os.environ[\"TEST_DATA_PATH\"], \"pdb/rcsb/1UBQ.pdb\")\npdb_file = pyxmolpp2.pdb.PdbFile(pdb_filename)\n\nframe = pdb_file.get_frame()\n\n# Original atom ids:\nprint([a.id for a in frame.asAtoms])"
      ]
    },
    {
      "metadata": {},
      "cell_type": "markdown",
      "source": [
        "First we need to define new order of atoms.\nFor sake of simplicity let's number them in reverse order\n\n"
      ]
    },
    {
      "outputs": [],
      "metadata": {
        "collapsed": false
      },
      "cell_type": "code",
      "execution_count": null,
      "source": [
        "atoms = frame.asAtoms\n\nfor i, a in enumerate(atoms):\n    a.id = atoms.size - i\n\n# New atom ids:\nprint([a.id for a in frame.asAtoms])"
      ]
    },
    {
      "metadata": {},
      "cell_type": "markdown",
      "source": [
        "As you can see `atom.id` does not affect atom order.\nTo change that we need to construct new Frame with desired order of atoms:\n\n"
      ]
    },
    {
      "outputs": [],
      "metadata": {
        "collapsed": false
      },
      "cell_type": "code",
      "execution_count": null,
      "source": [
        "from pyxmolpp2.polymer import Frame\n\nnew_frame = Frame(0)  # create empty frame with index=0\n\nfor chain in frame.asChains:\n    new_chain = new_frame.emplace(chain.name)  # create empty chain with same name\n    for residue in frame.asResidues:\n        new_residue = new_chain.emplace(residue.name, residue.id)  # create empty residue with same name and id\n        for a in sorted(list(residue.asAtoms), key=lambda a: a.id):\n            new_atom = new_residue.emplace(a)  # create a copy of atom `a`\n\n# New frame atoms ids:\nprint([a.id for a in new_frame.asAtoms])"
      ]
    }
  ],
  "metadata": {
    "language_info": {
      "version": "3.5.6",
      "codemirror_mode": {
        "version": 3,
        "name": "ipython"
      },
      "mimetype": "text/x-python",
      "name": "python",
      "pygments_lexer": "ipython3",
      "nbconvert_exporter": "python",
      "file_extension": ".py"
    },
    "kernelspec": {
      "language": "python",
      "name": "python3",
      "display_name": "Python 3"
    }
  },
  "nbformat": 4,
  "nbformat_minor": 0
}
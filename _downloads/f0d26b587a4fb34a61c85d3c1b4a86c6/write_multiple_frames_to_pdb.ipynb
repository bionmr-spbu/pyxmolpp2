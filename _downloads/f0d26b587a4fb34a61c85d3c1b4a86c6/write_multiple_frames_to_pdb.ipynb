{
  "cells": [
    {
      "outputs": [],
      "metadata": {
        "collapsed": false
      },
      "cell_type": "code",
      "execution_count": null,
      "source": [
        "%matplotlib inline"
      ]
    },
    {
      "metadata": {},
      "cell_type": "markdown",
      "source": [
        "\n\nWrite multiple frames to pdb\n----------------------------\n\n\n"
      ]
    },
    {
      "outputs": [],
      "metadata": {
        "collapsed": false
      },
      "cell_type": "code",
      "execution_count": null,
      "source": [
        "import pyxmolpp2\nfrom pyxmolpp2.geometry import Translation3d, XYZ\nimport os\n\npdb_filename = os.path.join(os.environ[\"TEST_DATA_PATH\"], \"pdb/rcsb/1PGB.pdb\")\n\n# Read standard PDB file\npdb_file = pyxmolpp2.pdb.PdbFile(pdb_filename)\n\n# Read all frames (MODELS in PDB terms)\nframes = pdb_file.get_frames()\n\n# Place all frames geometric center at origin\nfor frame in frames:\n    frame.asAtoms.transform(Translation3d(-frame.asAtoms.geom_center()))\n\n# Write all frames to one pdb file\nwith open(\"out.pdb\", \"w\") as output:\n    for frame in frames:\n        frame.to_pdb(output)\n        output.write(\"ENDMDL\\n\")"
      ]
    }
  ],
  "metadata": {
    "language_info": {
      "version": "3.5.6",
      "codemirror_mode": {
        "version": 3,
        "name": "ipython"
      },
      "mimetype": "text/x-python",
      "name": "python",
      "pygments_lexer": "ipython3",
      "nbconvert_exporter": "python",
      "file_extension": ".py"
    },
    "kernelspec": {
      "language": "python",
      "name": "python3",
      "display_name": "Python 3"
    }
  },
  "nbformat": 4,
  "nbformat_minor": 0
}